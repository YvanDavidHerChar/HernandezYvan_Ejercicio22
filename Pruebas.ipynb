{
 "cells": [
  {
   "cell_type": "code",
   "execution_count": 14,
   "metadata": {},
   "outputs": [],
   "source": [
    "import numpy as np\n",
    "import matplotlib.pyplot as plt\n",
    "import glob\n",
    "import sklearn.preprocessing\n",
    "import sklearn.neural_network\n",
    "import sklearn.model_selection"
   ]
  },
  {
   "cell_type": "code",
   "execution_count": 15,
   "metadata": {},
   "outputs": [
    {
     "name": "stdout",
     "output_type": "stream",
     "text": [
      "0 Fruta\n",
      "1 Fruta\n",
      "2 Fruta\n",
      "3 Fruta\n",
      "4 Fruta\n",
      "5 Fruta\n",
      "6 Fruta\n",
      "7 Fruta\n",
      "8 Fruta\n",
      "9 Fruta\n",
      "10 Fruta\n",
      "11 Fruta\n",
      "12 Fruta\n",
      "13 Fruta\n",
      "(2143, 30000) (2143,)\n"
     ]
    }
   ],
   "source": [
    "folderset = [folder for folder in glob.glob(\"Test/\" + \"**/\", recursive=True)]\n",
    "data = []\n",
    "Y = []\n",
    "largo = len(folderset)\n",
    "for i in range(largo):\n",
    "    fruta = folderset[i]\n",
    "    imagenes = glob.glob(\"{}/*.jpg\".format(fruta))\n",
    "    print(str(i) +' Fruta')\n",
    "    for imagen in imagenes:\n",
    "        aqui = plt.imread(imagen).flatten()\n",
    "        data.append(np.array(aqui))\n",
    "        Y.append(i)\n",
    "        \n",
    "data = np.array(data)\n",
    "print(np.shape(data),np.shape(Y))"
   ]
  },
  {
   "cell_type": "code",
   "execution_count": 16,
   "metadata": {},
   "outputs": [],
   "source": [
    "X_train, X_test, Y_train, Y_test = sklearn.model_selection.train_test_split(data, Y, test_size=0.5)\n",
    "scaler = sklearn.preprocessing.StandardScaler()\n",
    "X_train = scaler.fit_transform(X_train)\n",
    "X_test = scaler.transform(X_test)"
   ]
  },
  {
   "cell_type": "code",
   "execution_count": 17,
   "metadata": {},
   "outputs": [],
   "source": [
    "loss=[]\n",
    "F1 = []"
   ]
  },
  {
   "cell_type": "code",
   "execution_count": null,
   "metadata": {},
   "outputs": [
    {
     "name": "stderr",
     "output_type": "stream",
     "text": [
      "/srv/conda/envs/notebook/lib/python3.7/site-packages/sklearn/neural_network/_multilayer_perceptron.py:571: ConvergenceWarning: Stochastic Optimizer: Maximum iterations (200) reached and the optimization hasn't converged yet.\n",
      "  % self.max_iter, ConvergenceWarning)\n",
      "/srv/conda/envs/notebook/lib/python3.7/site-packages/sklearn/neural_network/_multilayer_perceptron.py:571: ConvergenceWarning: Stochastic Optimizer: Maximum iterations (200) reached and the optimization hasn't converged yet.\n",
      "  % self.max_iter, ConvergenceWarning)\n",
      "/srv/conda/envs/notebook/lib/python3.7/site-packages/sklearn/neural_network/_multilayer_perceptron.py:573: UserWarning: Training interrupted by user.\n",
      "  warnings.warn(\"Training interrupted by user.\")\n"
     ]
    }
   ],
   "source": [
    "for i in range(20):\n",
    "    n = i+1\n",
    "    mlp = sklearn.neural_network.MLPClassifier(activation='logistic', hidden_layer_sizes=(n,),max_iter=200)\n",
    "    mlp.fit(X_train, Y_train)\n",
    "    loss.append(mlp.loss_)\n",
    "    F1.append(sklearn.metrics.f1_score(Y_test, mlp.predict(X_test), average='macro'))"
   ]
  },
  {
   "cell_type": "code",
   "execution_count": null,
   "metadata": {},
   "outputs": [],
   "source": [
    "x = np.linspace(0,20)\n",
    "plt.plot(x,loss)\n",
    "plt.plot(x,F1)\n"
   ]
  },
  {
   "cell_type": "code",
   "execution_count": 6,
   "metadata": {},
   "outputs": [
    {
     "name": "stdout",
     "output_type": "stream",
     "text": [
      "Loss 2.558106046906551\n",
      "F1 0.01641025641025641\n"
     ]
    },
    {
     "data": {
      "text/plain": [
       "<sklearn.metrics._plot.confusion_matrix.ConfusionMatrixDisplay at 0x7f1213785d10>"
      ]
     },
     "execution_count": 6,
     "metadata": {},
     "output_type": "execute_result"
    },
    {
     "data": {
      "image/png": "[encoded data removed]",
      "text/plain": [
       "<Figure size 432x288 with 2 Axes>"
      ]
     },
     "metadata": {
      "needs_background": "light"
     },
     "output_type": "display_data"
    }
   ],
   "source": [
    "mlp_bueno = sklearn.neural_network.MLPClassifier(activation='logistic', hidden_layer_sizes=(5,),max_iter=200)\n",
    "mlp_bueno.fit(X_train, Y_train)\n",
    "\n",
    "print(np.shape(mlp.coefs_[i]))\n",
    "for i in range(len(mlp.coefs_[0])):\n",
    "    plt.imshow(mlp.coefs_[0][:,i].reshape(100,100,3),cmap=plt.cm.RdBu, vmin=-scale, vmax=scale)"
   ]
  },
  {
   "cell_type": "code",
   "execution_count": null,
   "metadata": {},
   "outputs": [],
   "source": []
  }
 ],
 "metadata": {
  "kernelspec": {
   "display_name": "Python 3",
   "language": "python",
   "name": "python3"
  },
  "language_info": {
   "codemirror_mode": {
    "name": "ipython",
    "version": 3
   },
   "file_extension": ".py",
   "mimetype": "text/x-python",
   "name": "python",
   "nbconvert_exporter": "python",
   "pygments_lexer": "ipython3",
   "version": "3.7.6"
  }
 },
 "nbformat": 4,
 "nbformat_minor": 4
}
